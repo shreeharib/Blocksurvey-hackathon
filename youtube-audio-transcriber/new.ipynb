{
 "cells": [
  {
   "cell_type": "code",
   "execution_count": 2,
   "metadata": {},
   "outputs": [],
   "source": [
    "import os\n",
    "from dotenv import load_dotenv\n",
    "\n",
    "load_dotenv() \n",
    "\n",
    "import google.generativeai as genai"
   ]
  },
  {
   "cell_type": "code",
   "execution_count": 5,
   "metadata": {},
   "outputs": [],
   "source": [
    "prompt=\"\"\"translate this to tamil langugage : Act as an AI specializing in summarizing YouTube videos, your task is to distill the key points from the provided transcript text as paragraphs. Your summary should be concise, not exceeding 250 words, and should be structured in easy-to-understand paragraphs. \n",
    "\n",
    "The summary should cover all the important take aways from the video, including any main arguments, findings, or conclusions. The goal is to provide a comprehensive yet succinct overview of the video content, enabling users to understand the essence of the video without having to watch it in its entirety.\n",
    "  \"\"\""
   ]
  },
  {
   "cell_type": "code",
   "execution_count": null,
   "metadata": {},
   "outputs": [],
   "source": [
    "generation_config={\n",
    "    \"max_output_tokens\":500\n",
    "}"
   ]
  },
  {
   "cell_type": "code",
   "execution_count": 14,
   "metadata": {},
   "outputs": [
    {
     "ename": "ValueError",
     "evalue": "The `response.text` quick accessor only works for simple (single-`Part`) text responses. This response is not simple text.Use the `result.parts` accessor or the full `result.candidates[index].content.parts` lookup instead.",
     "output_type": "error",
     "traceback": [
      "\u001b[0;31m---------------------------------------------------------------------------\u001b[0m",
      "\u001b[0;31mValueError\u001b[0m                                Traceback (most recent call last)",
      "Cell \u001b[0;32mIn[14], line 4\u001b[0m\n\u001b[1;32m      2\u001b[0m model \u001b[39m=\u001b[39m genai\u001b[39m.\u001b[39mGenerativeModel(\u001b[39m\"\u001b[39m\u001b[39mgemini-pro\u001b[39m\u001b[39m\"\u001b[39m)\n\u001b[1;32m      3\u001b[0m response \u001b[39m=\u001b[39m model\u001b[39m.\u001b[39mgenerate_content(prompt)\n\u001b[0;32m----> 4\u001b[0m Markdown(response\u001b[39m.\u001b[39;49mtext)\n",
      "File \u001b[0;32m/opt/homebrew/Caskroom/miniconda/base/lib/python3.10/site-packages/google/generativeai/types/generation_types.py:328\u001b[0m, in \u001b[0;36mBaseGenerateContentResponse.text\u001b[0;34m(self)\u001b[0m\n\u001b[1;32m    326\u001b[0m parts \u001b[39m=\u001b[39m \u001b[39mself\u001b[39m\u001b[39m.\u001b[39mparts\n\u001b[1;32m    327\u001b[0m \u001b[39mif\u001b[39;00m \u001b[39mlen\u001b[39m(parts) \u001b[39m!=\u001b[39m \u001b[39m1\u001b[39m \u001b[39mor\u001b[39;00m \u001b[39m\"\u001b[39m\u001b[39mtext\u001b[39m\u001b[39m\"\u001b[39m \u001b[39mnot\u001b[39;00m \u001b[39min\u001b[39;00m parts[\u001b[39m0\u001b[39m]:\n\u001b[0;32m--> 328\u001b[0m     \u001b[39mraise\u001b[39;00m \u001b[39mValueError\u001b[39;00m(\n\u001b[1;32m    329\u001b[0m         \u001b[39m\"\u001b[39m\u001b[39mThe `response.text` quick accessor only works for \u001b[39m\u001b[39m\"\u001b[39m\n\u001b[1;32m    330\u001b[0m         \u001b[39m\"\u001b[39m\u001b[39msimple (single-`Part`) text responses. This response is not simple text.\u001b[39m\u001b[39m\"\u001b[39m\n\u001b[1;32m    331\u001b[0m         \u001b[39m\"\u001b[39m\u001b[39mUse the `result.parts` accessor or the full \u001b[39m\u001b[39m\"\u001b[39m\n\u001b[1;32m    332\u001b[0m         \u001b[39m\"\u001b[39m\u001b[39m`result.candidates[index].content.parts` lookup \u001b[39m\u001b[39m\"\u001b[39m\n\u001b[1;32m    333\u001b[0m         \u001b[39m\"\u001b[39m\u001b[39minstead.\u001b[39m\u001b[39m\"\u001b[39m\n\u001b[1;32m    334\u001b[0m     )\n\u001b[1;32m    335\u001b[0m \u001b[39mreturn\u001b[39;00m parts[\u001b[39m0\u001b[39m]\u001b[39m.\u001b[39mtext\n",
      "\u001b[0;31mValueError\u001b[0m: The `response.text` quick accessor only works for simple (single-`Part`) text responses. This response is not simple text.Use the `result.parts` accessor or the full `result.candidates[index].content.parts` lookup instead."
     ]
    }
   ],
   "source": [
    "genai.configure(api_key=os.getenv(\"GOOGLE_API_KEY\"))\n",
    "model = genai.GenerativeModel(\"gemini-pro\")\n",
    "response = model.generate_content(prompt)\n",
    "Markdown(response.text)"
   ]
  },
  {
   "cell_type": "code",
   "execution_count": 1,
   "metadata": {},
   "outputs": [
    {
     "name": "stdout",
     "output_type": "stream",
     "text": [
      "hello\n"
     ]
    }
   ],
   "source": [
    "print(\"hello\")\n"
   ]
  },
  {
   "cell_type": "code",
   "execution_count": 8,
   "metadata": {},
   "outputs": [],
   "source": [
    "from IPython.display import display\n",
    "from IPython.display import Markdown\n",
    "\n",
    "\n",
    "def to_markdown(text):\n",
    "  text = text.replace('•', '  *')\n",
    "  return Markdown(textwrap.indent(text, '> ', predicate=lambda _: True))"
   ]
  },
  {
   "cell_type": "code",
   "execution_count": 9,
   "metadata": {},
   "outputs": [
    {
     "ename": "ValueError",
     "evalue": "The `response.text` quick accessor only works for simple (single-`Part`) text responses. This response is not simple text.Use the `result.parts` accessor or the full `result.candidates[index].content.parts` lookup instead.",
     "output_type": "error",
     "traceback": [
      "\u001b[0;31m---------------------------------------------------------------------------\u001b[0m",
      "\u001b[0;31mValueError\u001b[0m                                Traceback (most recent call last)",
      "Cell \u001b[0;32mIn[9], line 1\u001b[0m\n\u001b[0;32m----> 1\u001b[0m to_markdown(response\u001b[39m.\u001b[39;49mtext)\n",
      "File \u001b[0;32m/opt/homebrew/Caskroom/miniconda/base/lib/python3.10/site-packages/google/generativeai/types/generation_types.py:328\u001b[0m, in \u001b[0;36mBaseGenerateContentResponse.text\u001b[0;34m(self)\u001b[0m\n\u001b[1;32m    326\u001b[0m parts \u001b[39m=\u001b[39m \u001b[39mself\u001b[39m\u001b[39m.\u001b[39mparts\n\u001b[1;32m    327\u001b[0m \u001b[39mif\u001b[39;00m \u001b[39mlen\u001b[39m(parts) \u001b[39m!=\u001b[39m \u001b[39m1\u001b[39m \u001b[39mor\u001b[39;00m \u001b[39m\"\u001b[39m\u001b[39mtext\u001b[39m\u001b[39m\"\u001b[39m \u001b[39mnot\u001b[39;00m \u001b[39min\u001b[39;00m parts[\u001b[39m0\u001b[39m]:\n\u001b[0;32m--> 328\u001b[0m     \u001b[39mraise\u001b[39;00m \u001b[39mValueError\u001b[39;00m(\n\u001b[1;32m    329\u001b[0m         \u001b[39m\"\u001b[39m\u001b[39mThe `response.text` quick accessor only works for \u001b[39m\u001b[39m\"\u001b[39m\n\u001b[1;32m    330\u001b[0m         \u001b[39m\"\u001b[39m\u001b[39msimple (single-`Part`) text responses. This response is not simple text.\u001b[39m\u001b[39m\"\u001b[39m\n\u001b[1;32m    331\u001b[0m         \u001b[39m\"\u001b[39m\u001b[39mUse the `result.parts` accessor or the full \u001b[39m\u001b[39m\"\u001b[39m\n\u001b[1;32m    332\u001b[0m         \u001b[39m\"\u001b[39m\u001b[39m`result.candidates[index].content.parts` lookup \u001b[39m\u001b[39m\"\u001b[39m\n\u001b[1;32m    333\u001b[0m         \u001b[39m\"\u001b[39m\u001b[39minstead.\u001b[39m\u001b[39m\"\u001b[39m\n\u001b[1;32m    334\u001b[0m     )\n\u001b[1;32m    335\u001b[0m \u001b[39mreturn\u001b[39;00m parts[\u001b[39m0\u001b[39m]\u001b[39m.\u001b[39mtext\n",
      "\u001b[0;31mValueError\u001b[0m: The `response.text` quick accessor only works for simple (single-`Part`) text responses. This response is not simple text.Use the `result.parts` accessor or the full `result.candidates[index].content.parts` lookup instead."
     ]
    }
   ],
   "source": [
    "to_markdown(response.parts)"
   ]
  },
  {
   "cell_type": "code",
   "execution_count": null,
   "metadata": {},
   "outputs": [],
   "source": []
  }
 ],
 "metadata": {
  "kernelspec": {
   "display_name": "base",
   "language": "python",
   "name": "python3"
  },
  "language_info": {
   "codemirror_mode": {
    "name": "ipython",
    "version": 3
   },
   "file_extension": ".py",
   "mimetype": "text/x-python",
   "name": "python",
   "nbconvert_exporter": "python",
   "pygments_lexer": "ipython3",
   "version": "3.10.10"
  },
  "orig_nbformat": 4
 },
 "nbformat": 4,
 "nbformat_minor": 2
}
